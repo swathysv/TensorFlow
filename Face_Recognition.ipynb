{
  "nbformat": 4,
  "nbformat_minor": 0,
  "metadata": {
    "kernelspec": {
      "display_name": "Python 3",
      "language": "python",
      "name": "python3"
    },
    "language_info": {
      "codemirror_mode": {
        "name": "ipython",
        "version": 3
      },
      "file_extension": ".py",
      "mimetype": "text/x-python",
      "name": "python",
      "nbconvert_exporter": "python",
      "pygments_lexer": "ipython3",
      "version": "3.6.5"
    },
    "colab": {
      "name": "Face_Recognition.ipynb",
      "provenance": [],
      "include_colab_link": true
    }
  },
  "cells": [
    {
      "cell_type": "markdown",
      "metadata": {
        "id": "view-in-github",
        "colab_type": "text"
      },
      "source": [
        "<a href=\"https://colab.research.google.com/github/swathysv/TensorFlow/blob/master/Face_Recognition.ipynb\" target=\"_parent\"><img src=\"https://colab.research.google.com/assets/colab-badge.svg\" alt=\"Open In Colab\"/></a>"
      ]
    },
    {
      "cell_type": "code",
      "metadata": {
        "id": "cWoZJIg9SNxG",
        "colab_type": "code",
        "colab": {}
      },
      "source": [
        "import cv2\n",
        "import datetime\n",
        "import os\n",
        "import numpy as np\n",
        "import imutils"
      ],
      "execution_count": null,
      "outputs": []
    },
    {
      "cell_type": "code",
      "metadata": {
        "id": "wJzDbgjUSNyB",
        "colab_type": "code",
        "colab": {}
      },
      "source": [
        "face_haar_cascade=cv2.CascadeClassifier('haarcascade_frontalface_default.xml')\n",
        "#Place the xml file in the same path as this notebook or pass the absolute path of the xml file"
      ],
      "execution_count": null,
      "outputs": []
    },
    {
      "cell_type": "code",
      "metadata": {
        "id": "InfeXLsFSNy1",
        "colab_type": "code",
        "colab": {}
      },
      "source": [
        "def faceDetection(img):\n",
        "    gray_img=cv2.cvtColor(img,cv2.COLOR_BGR2GRAY)\n",
        "    faces=face_haar_cascade.detectMultiScale(gray_img,scaleFactor=1.32,minNeighbors=5)\n",
        "    #faces are the coordinates of the roi\n",
        "    return faces,gray_img"
      ],
      "execution_count": null,
      "outputs": []
    },
    {
      "cell_type": "code",
      "metadata": {
        "id": "0E8smSCmSNzX",
        "colab_type": "code",
        "colab": {},
        "outputId": "f502d91a-230e-46a2-b46c-54af666d4759"
      },
      "source": [
        "capture=cv2.VideoCapture(0) #0- for camera. To use any video as input, pass the video file as the parameter\n",
        "print(capture.isOpened)\n",
        "while(capture.isOpened):\n",
        "    captured,frame=capture.read()\n",
        "    \n",
        "    faces_detected,gray_img=faceDetection(frame)\n",
        "\n",
        "    for (x,y,w,h) in faces_detected:\n",
        "        cv2.rectangle(frame,(x,y),(x+w,y+h),(255,0,0),thickness=3)\n",
        "    \n",
        "    cv2.imshow(\"Web Cam\",frame)    \n",
        "    if cv2.waitKey(1)&0xff==ord('q'): #Press 'q' to close the window\n",
        "        break\n",
        "capture.release()\n",
        "cv2.destroyAllWindows()"
      ],
      "execution_count": null,
      "outputs": [
        {
          "output_type": "stream",
          "text": [
            "<built-in method isOpened of cv2.VideoCapture object at 0x00000124E0B279D0>\n"
          ],
          "name": "stdout"
        }
      ]
    },
    {
      "cell_type": "code",
      "metadata": {
        "id": "oSG8-i-hSNz9",
        "colab_type": "code",
        "colab": {}
      },
      "source": [
        "#give labels as numbers to the training data. Folder name is the label itself\n",
        "#function returns region of interest(roi) and the label of images \n",
        "def lable_training_data(directory):\n",
        "    faces=[]\n",
        "    labels=[]\n",
        "    for path , sub_dir, filenames in os.walk(directory):\n",
        "        for filename in filenames:\n",
        "            if filename.startswith(\".\"):\n",
        "                print(\"skipping system file\"+filename)\n",
        "                continue\n",
        "            #gives folder name in which file is present\n",
        "            label=os.path.basename(path)\n",
        "            img_path=os.path.join(path,filename)\n",
        "            print(\"img_path-\",img_path)\n",
        "            print(\"label-\",label)\n",
        "            test_img=cv2.imread(img_path)\n",
        "            if test_img is None:\n",
        "                print(\"couldnt load image properly\")\n",
        "                continue\n",
        "            faces_rect,gray_img=faceDetection(test_img)\n",
        "            if len(faces_rect)!=1:\n",
        "                #skipping images with multiple images\n",
        "                print(\"Skipping image\"+img_path)\n",
        "                continue\n",
        "            (x,y,w,h)=faces_rect[0]\n",
        "            roi_gray=gray_img[y:y+w,x:x+h]\n",
        "            faces.append(roi_gray)\n",
        "            labels.append(int(label))\n",
        "    return faces,labels\n",
        "            "
      ],
      "execution_count": null,
      "outputs": []
    },
    {
      "cell_type": "code",
      "metadata": {
        "id": "8aaRYEthSN0d",
        "colab_type": "code",
        "colab": {}
      },
      "source": [
        "faces,labels=lable_training_data(\"C:\\\\Users\\\\FaceRecognition\\\\Data\")\n",
        "#Pass the path of the folder where all your labelled folders are present\n",
        "#In this case, \"Data\" Folder should consist of folders \"1\",\"2\",\"3\",.. each containing your training Data.\n",
        "#You can use publicly available datasets for training"
      ],
      "execution_count": null,
      "outputs": []
    },
    {
      "cell_type": "code",
      "metadata": {
        "id": "V5IDe6fYSN09",
        "colab_type": "code",
        "colab": {}
      },
      "source": [
        "def train_classifier(faces,labels):\n",
        "#Local Binary Pattern Histogram\n",
        "    face_recognizer=cv2.face.LBPHFaceRecognizer_create()\n",
        "    face_recognizer.train(faces,np.array(labels))\n",
        "    return face_recognizer\n",
        "    "
      ],
      "execution_count": null,
      "outputs": []
    },
    {
      "cell_type": "code",
      "metadata": {
        "id": "EMD0TSAbSN1U",
        "colab_type": "code",
        "colab": {}
      },
      "source": [
        "face_recognizer=train_classifier(faces,labels)"
      ],
      "execution_count": null,
      "outputs": []
    },
    {
      "cell_type": "code",
      "metadata": {
        "id": "dpqgppHoSN1s",
        "colab_type": "code",
        "colab": {}
      },
      "source": [
        "def draw_rect(test_img,face):\n",
        "    (x,y,w,h)=face\n",
        "    cv2.rectangle(test_img,(x,y),(x+w,y+h),(255,0,0),thickness=4)"
      ],
      "execution_count": null,
      "outputs": []
    },
    {
      "cell_type": "code",
      "metadata": {
        "id": "Hh7hZqkeSN2I",
        "colab_type": "code",
        "colab": {}
      },
      "source": [
        "def text_on_img(test_img,text,x,y):\n",
        "    cv2.putText(test_img,text,(x,y),cv2.FONT_HERSHEY_DUPLEX,2,(255,0,0),2)"
      ],
      "execution_count": null,
      "outputs": []
    },
    {
      "cell_type": "code",
      "metadata": {
        "id": "_6DqnhaFSN2k",
        "colab_type": "code",
        "colab": {}
      },
      "source": [
        "name={1:\"Me\",2:\"Person2\",3:\"Person3\"}\n",
        "#We are creating dictionary based on the labels and the data present in each of them.\n",
        "#You can place your own pictures in folder \"1\""
      ],
      "execution_count": null,
      "outputs": []
    },
    {
      "cell_type": "code",
      "metadata": {
        "id": "GkErQAbwSN3c",
        "colab_type": "code",
        "colab": {},
        "outputId": "0e2d8323-9bf3-4a8f-af79-d043ad98171b"
      },
      "source": [
        "capture=cv2.VideoCapture(0) #0- for camera\n",
        "print(capture.isOpened)\n",
        "while(capture.isOpened):\n",
        "    ret,frame=capture.read()\n",
        "    \n",
        "    faces_detected,gray_img=faceDetection(frame)\n",
        "    #print(\"faces detected=\",faces_detected)\n",
        "\n",
        "    \n",
        "    for face in faces_detected:\n",
        "        \n",
        "        (x,y,w,h)=face\n",
        "        roi_gray=gray_img[y:y+h,x:x+w]\n",
        "        label,confidence=face_recognizer.predict(roi_gray)\n",
        "        print(label, confidence)\n",
        "        draw_rect(frame,face)\n",
        "        predicted_name=name[label]\n",
        "        if(confidence>140):\n",
        "            predicted_name=\"unknown\"\n",
        "        text_on_img(frame,predicted_name,x,y)\n",
        "    \n",
        "    cv2.imshow(\"webCam\",frame)\n",
        "    \n",
        "    \n",
        "    \n",
        "    if cv2.waitKey(1)&0xff==ord('q'):\n",
        "        break\n",
        "capture.release()\n",
        "cv2.destroyAllWindows()"
      ],
      "execution_count": null,
      "outputs": [
        {
          "output_type": "stream",
          "text": [
            "<built-in method isOpened of cv2.VideoCapture object at 0x00000124E0B27BD0>\n",
            "1 65.345944928877\n",
            "1 64.55851923429948\n",
            "1 64.06271968696652\n",
            "1 64.60645638095666\n",
            "1 64.11637128148581\n",
            "1 60.29507276407542\n",
            "1 65.68301484289867\n",
            "1 64.85463526070139\n",
            "1 63.00191497412166\n",
            "1 60.12978233096615\n",
            "1 60.948837513942564\n",
            "1 62.69011572147034\n",
            "1 63.601866572495034\n",
            "1 62.238281393288744\n",
            "1 62.238281393288744\n",
            "1 62.38863400600885\n",
            "1 61.88678818789789\n",
            "1 64.48416486607823\n",
            "1 60.925074987650675\n",
            "1 57.22527803154501\n",
            "1 57.22527803154501\n",
            "1 61.1038852727326\n",
            "1 60.371577558861844\n",
            "1 62.86649200760503\n",
            "1 61.47326816235173\n",
            "1 59.70715717652232\n",
            "1 59.70715717652232\n",
            "1 63.29266915602764\n",
            "1 63.019382891621575\n",
            "1 60.06162406803176\n",
            "1 61.574744768218196\n",
            "1 61.481456339821136\n",
            "1 57.82509918602266\n",
            "1 58.96866358410007\n",
            "1 58.96866358410007\n",
            "1 61.93289265402084\n",
            "1 61.598698681319014\n",
            "1 62.78159206422246\n",
            "1 61.94311200440779\n",
            "1 61.94311200440779\n",
            "1 63.26812565372314\n",
            "1 60.24843104802514\n",
            "1 63.228649273102405\n",
            "1 61.29195798225177\n",
            "1 61.29195798225177\n",
            "1 61.83471300012379\n",
            "1 62.10231649111578\n",
            "1 61.91229230712048\n",
            "1 58.44294908475344\n",
            "1 58.887446271721295\n",
            "1 58.887446271721295\n",
            "1 58.28345857229873\n",
            "1 60.50489977956705\n",
            "1 60.765217266868596\n",
            "1 61.41386979149341\n",
            "1 61.41386979149341\n",
            "1 59.2695343073233\n",
            "1 58.62358757118337\n",
            "1 60.33584305303763\n",
            "1 57.89934076141618\n",
            "1 58.60478952617814\n",
            "1 58.60478952617814\n",
            "1 56.549407724783386\n",
            "1 57.72359561941463\n",
            "1 57.68116487337047\n",
            "1 60.48329218903239\n",
            "1 59.041781201009314\n",
            "1 59.041781201009314\n",
            "1 60.63017475435319\n",
            "1 61.656150924357576\n",
            "1 59.95883930434123\n",
            "1 59.95883930434123\n",
            "1 58.751593748628885\n",
            "1 57.02521752869077\n",
            "1 59.09733049226691\n",
            "1 59.10530062472767\n",
            "1 60.185108032370145\n",
            "1 57.56491388708076\n",
            "1 61.3100225141816\n",
            "1 61.3100225141816\n",
            "1 64.45664779111286\n",
            "1 63.63838445892287\n",
            "1 60.276637465635936\n",
            "1 60.276637465635936\n",
            "1 61.246015592877235\n",
            "1 61.26715320629489\n",
            "1 61.37270143624556\n",
            "1 61.709491963134376\n",
            "1 61.78223288027414\n",
            "1 61.78223288027414\n",
            "1 60.974761701040045\n",
            "1 61.990009151467824\n",
            "1 64.560493134749\n",
            "1 58.19711179037165\n",
            "1 62.86698842235895\n",
            "1 62.86698842235895\n",
            "1 61.99546275254091\n",
            "1 64.77616404667434\n",
            "1 60.96444553505077\n",
            "1 61.74531132367512\n",
            "1 64.5299777417775\n",
            "1 67.08111775697951\n",
            "1 61.23305735702879\n",
            "1 62.22865784164567\n",
            "1 62.22865784164567\n",
            "1 61.48056833108012\n",
            "1 59.77739053647146\n",
            "1 60.18238167988382\n",
            "1 60.198321957047256\n",
            "1 64.92502683155824\n",
            "1 68.04996266154915\n",
            "1 68.04996266154915\n",
            "1 63.478191013260634\n",
            "1 59.04427139662526\n",
            "1 59.85014742551705\n",
            "1 62.323438560055\n",
            "1 62.323438560055\n",
            "1 63.30546637289942\n",
            "1 65.74201348028974\n",
            "1 61.52513545992989\n",
            "1 63.18476145041941\n",
            "1 62.03819627560074\n",
            "1 59.46823070439718\n",
            "1 59.46823070439718\n",
            "1 63.22402646753747\n",
            "1 61.62439009194743\n",
            "1 58.036866366672356\n",
            "1 57.80228236712297\n",
            "1 56.74000098787477\n",
            "1 55.46939698552586\n",
            "1 61.926818159572846\n",
            "1 63.19056022094445\n",
            "1 63.19056022094445\n",
            "1 56.989251458231216\n",
            "1 55.526110741311605\n",
            "1 60.490262225916915\n",
            "1 60.40036867583816\n",
            "1 62.00080872373799\n",
            "1 65.8374470475861\n",
            "1 64.48496543152288\n",
            "1 61.23844132879221\n",
            "1 58.615900475552\n",
            "1 58.615900475552\n",
            "1 66.31433675857782\n",
            "1 65.64675998531519\n",
            "1 58.975324217078516\n",
            "1 58.33425062136759\n",
            "1 59.29279724567991\n",
            "1 59.08956112742734\n",
            "1 57.754310513632454\n",
            "1 59.33992951402519\n",
            "1 61.390613636066774\n",
            "1 56.82425418611635\n",
            "1 56.82425418611635\n",
            "1 57.99182705596821\n",
            "1 60.34758059193583\n",
            "1 58.2060829892078\n",
            "1 57.04964532105273\n",
            "1 58.221536965336405\n",
            "1 58.221536965336405\n",
            "1 59.92103842983279\n"
          ],
          "name": "stdout"
        }
      ]
    }
  ]
}